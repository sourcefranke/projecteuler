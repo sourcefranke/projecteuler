{
  "nbformat": 4,
  "nbformat_minor": 0,
  "metadata": {
    "colab": {
      "provenance": [],
      "toc_visible": true
    },
    "kernelspec": {
      "name": "python3",
      "display_name": "Python 3"
    },
    "language_info": {
      "name": "python"
    }
  },
  "cells": [
    {
      "cell_type": "markdown",
      "source": [
        "# Problem 3: Largest Prime Factor\n",
        "\n",
        "The prime factors of $13195$ are $5, 7, 13$ and $29$.\n",
        "\n",
        "What is the largest prime factor of the number $600851475143$?\n",
        "\n",
        "Link: https://projecteuler.net/problem=3"
      ],
      "metadata": {
        "id": "jGukXokeroAY"
      }
    },
    {
      "cell_type": "markdown",
      "source": [
        "## Solution"
      ],
      "metadata": {
        "id": "XmB7DKoPtAPE"
      }
    },
    {
      "cell_type": "code",
      "execution_count": 1,
      "metadata": {
        "id": "A5k4IUgZrj9H"
      },
      "outputs": [],
      "source": [
        "def largest_prime_factor(n):\n",
        "    def is_prime(num):\n",
        "        if num <= 1:\n",
        "            return False\n",
        "        for i in range(2, int(num**0.5) + 1):\n",
        "            if num % i == 0:\n",
        "                return False\n",
        "        return True\n",
        "\n",
        "    factor = 2\n",
        "    largest_factor = 1\n",
        "\n",
        "    while factor * factor <= n:\n",
        "        if n % factor == 0:\n",
        "            if is_prime(factor):\n",
        "                largest_factor = factor\n",
        "            n //= factor\n",
        "        else:\n",
        "            factor += 1\n",
        "\n",
        "    if n > 1 and is_prime(n):\n",
        "        largest_factor = n\n",
        "\n",
        "    return largest_factor"
      ]
    },
    {
      "cell_type": "markdown",
      "source": [
        "## Tests"
      ],
      "metadata": {
        "id": "jnExX6pTtgLD"
      }
    },
    {
      "cell_type": "code",
      "source": [
        "import unittest\n",
        "\n",
        "class TestTheSolution(unittest.TestCase):\n",
        "\n",
        "    def largest_prime_factor(self):\n",
        "        self.assertEqual(largest_prime_factor(13195), 29)\n",
        "\n",
        "test_result = unittest.main(argv=[''], verbosity=3, exit=False)\n",
        "\n",
        "assert len(test_result.result.failures) == 0"
      ],
      "metadata": {
        "id": "EYGEft0xt6R0"
      },
      "execution_count": null,
      "outputs": []
    },
    {
      "cell_type": "markdown",
      "source": [
        "## Result"
      ],
      "metadata": {
        "id": "ffDFRXCttMxU"
      }
    },
    {
      "cell_type": "code",
      "source": [
        "number = 600851475143\n",
        "print(largest_prime_factor(number))"
      ],
      "metadata": {
        "id": "_0ncbeDJs3Eb"
      },
      "execution_count": null,
      "outputs": []
    }
  ]
}