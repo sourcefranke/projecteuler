{
  "cells": [
    {
      "cell_type": "markdown",
      "metadata": {
        "id": "XmB7DKoPtAPE"
      },
      "source": [
        "# Solution"
      ]
    },
    {
      "cell_type": "code",
      "execution_count": null,
      "metadata": {
        "id": "A5k4IUgZrj9H"
      },
      "outputs": [],
      "source": [
        "def largest_prime_factor(n):\n",
        "    def is_prime(num):\n",
        "        if num <= 1:\n",
        "            return False\n",
        "        for i in range(2, int(num**0.5) + 1):\n",
        "            if num % i == 0:\n",
        "                return False\n",
        "        return True\n",
        "\n",
        "    factor = 2\n",
        "    largest_factor = 1\n",
        "\n",
        "    while factor * factor <= n:\n",
        "        if n % factor == 0:\n",
        "            if is_prime(factor):\n",
        "                largest_factor = factor\n",
        "            n //= factor\n",
        "        else:\n",
        "            factor += 1\n",
        "\n",
        "    if n > 1 and is_prime(n):\n",
        "        largest_factor = n\n",
        "\n",
        "    return largest_factor"
      ]
    },
    {
      "cell_type": "markdown",
      "metadata": {
        "id": "jnExX6pTtgLD"
      },
      "source": [
        "# Tests"
      ]
    },
    {
      "cell_type": "code",
      "execution_count": null,
      "metadata": {
        "id": "EYGEft0xt6R0"
      },
      "outputs": [],
      "source": [
        "import unittest\n",
        "\n",
        "class TestTheSolution(unittest.TestCase):\n",
        "\n",
        "    def test_largest_prime_factor(self):\n",
        "        self.assertEqual(largest_prime_factor(13195), 29)\n",
        "\n",
        "\n",
        "test_result = unittest.main(argv=[''], verbosity=3, exit=False)\n",
        "\n",
        "assert len(test_result.result.failures) == 0"
      ]
    },
    {
      "cell_type": "markdown",
      "metadata": {
        "id": "ffDFRXCttMxU"
      },
      "source": [
        "# Result"
      ]
    },
    {
      "cell_type": "code",
      "execution_count": null,
      "metadata": {
        "id": "_0ncbeDJs3Eb"
      },
      "outputs": [],
      "source": [
        "import time\n",
        "\n",
        "start = time.time()\n",
        "result = largest_prime_factor(600851475143)\n",
        "elapsed = time.time() - start\n",
        "\n",
        "print(f\"Elapsed time: {elapsed} seconds\")"
      ]
    }
  ],
  "metadata": {
    "colab": {
      "provenance": [],
      "toc_visible": true
    },
    "kernelspec": {
      "display_name": "Python 3",
      "name": "python3"
    },
    "language_info": {
      "codemirror_mode": {
        "name": "ipython",
        "version": 3
      },
      "file_extension": ".py",
      "mimetype": "text/x-python",
      "name": "python",
      "nbconvert_exporter": "python",
      "pygments_lexer": "ipython3",
      "version": "3.12.0"
    }
  },
  "nbformat": 4,
  "nbformat_minor": 0
}
