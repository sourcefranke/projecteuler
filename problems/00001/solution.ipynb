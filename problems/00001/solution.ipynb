{
  "cells": [
    {
      "cell_type": "markdown",
      "metadata": {
        "id": "XmB7DKoPtAPE"
      },
      "source": [
        "# Solution"
      ]
    },
    {
      "cell_type": "code",
      "execution_count": null,
      "metadata": {
        "id": "A5k4IUgZrj9H"
      },
      "outputs": [],
      "source": [
        "def sum_of_multiples(limit):\n",
        "    total_sum = 0\n",
        "    for i in range(limit):\n",
        "        if i % 3 == 0 or i % 5 == 0:\n",
        "            total_sum += i\n",
        "    return total_sum"
      ]
    },
    {
      "cell_type": "markdown",
      "metadata": {
        "id": "jnExX6pTtgLD"
      },
      "source": [
        "# Tests"
      ]
    },
    {
      "cell_type": "code",
      "execution_count": null,
      "metadata": {
        "id": "EYGEft0xt6R0"
      },
      "outputs": [],
      "source": [
        "import unittest\n",
        "\n",
        "class TestTheSolution(unittest.TestCase):\n",
        "\n",
        "    def test_sum_of_multiples(self):\n",
        "        self.assertEqual(sum_of_multiples(10), 23)\n",
        "\n",
        "\n",
        "test_result = unittest.main(argv=[''], verbosity=3, exit=False)\n",
        "\n",
        "assert len(test_result.result.failures) == 0"
      ]
    },
    {
      "cell_type": "markdown",
      "metadata": {
        "id": "ffDFRXCttMxU"
      },
      "source": [
        "# Result"
      ]
    },
    {
      "cell_type": "code",
      "execution_count": null,
      "metadata": {
        "id": "_0ncbeDJs3Eb"
      },
      "outputs": [],
      "source": [
        "import time\n",
        "\n",
        "start = time.time()\n",
        "result = sum_of_multiples(1000)\n",
        "elapsed = time.time() - start\n",
        "\n",
        "print(f\"Elapsed time: {elapsed} seconds\")"
      ]
    }
  ],
  "metadata": {
    "colab": {
      "provenance": [],
      "toc_visible": true
    },
    "kernelspec": {
      "display_name": "Python 3",
      "name": "python3"
    },
    "language_info": {
      "codemirror_mode": {
        "name": "ipython",
        "version": 3
      },
      "file_extension": ".py",
      "mimetype": "text/x-python",
      "name": "python",
      "nbconvert_exporter": "python",
      "pygments_lexer": "ipython3",
      "version": "3.12.0"
    }
  },
  "nbformat": 4,
  "nbformat_minor": 0
}
